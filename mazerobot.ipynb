{
  "nbformat": 4,
  "nbformat_minor": 0,
  "metadata": {
    "colab": {
      "provenance": [],
      "authorship_tag": "ABX9TyMf/H60sCS2z0sCie0OkI9c",
      "include_colab_link": true
    },
    "kernelspec": {
      "name": "python3",
      "display_name": "Python 3"
    },
    "language_info": {
      "name": "python"
    }
  },
  "cells": [
    {
      "cell_type": "markdown",
      "metadata": {
        "id": "view-in-github",
        "colab_type": "text"
      },
      "source": [
        "<a href=\"https://colab.research.google.com/github/afrarafeeqa2004/machine-learning/blob/main/mazerobot.ipynb\" target=\"_parent\"><img src=\"https://colab.research.google.com/assets/colab-badge.svg\" alt=\"Open In Colab\"/></a>"
      ]
    },
    {
      "cell_type": "code",
      "execution_count": 8,
      "metadata": {
        "id": "4p1uFuf9PxBt"
      },
      "outputs": [],
      "source": [
        "import numpy as np\n",
        "import random\n",
        "import matplotlib.pyplot as plt\n",
        "from collections import defaultdict"
      ]
    },
    {
      "cell_type": "code",
      "source": [
        "maze = [\n",
        "    [0,0,0,0,0],\n",
        "    [1,1,1,1,0],\n",
        "    [0,0,0,1,0],\n",
        "    [0,1,1,0,0],\n",
        "    [0,0,0,1,0]\n",
        "]\n",
        "maze = np.array(maze)\n",
        "start = (0,0)\n",
        "goal = (4,4)\n",
        "actions = [(0,1),(0,-1),(1,0),(-1,0)]  # R,L,D,U\n",
        "n_actions = len(actions)"
      ],
      "metadata": {
        "id": "popJdA5sP2Oa"
      },
      "execution_count": 37,
      "outputs": []
    },
    {
      "cell_type": "code",
      "source": [
        "def in_bounds(pos):\n",
        "    x,y = pos\n",
        "    return 0 <= x < maze.shape[0] and 0 <= y < maze.shape[1]"
      ],
      "metadata": {
        "id": "RI3E9_V-QIim"
      },
      "execution_count": 38,
      "outputs": []
    },
    {
      "cell_type": "code",
      "source": [
        "def step(state, a):\n",
        "    x,y = state\n",
        "    dx,dy = actions[a]\n",
        "    nx,ny = x+dx, y+dy\n",
        "    if not in_bounds((nx,ny)) or maze[nx,ny]==1:\n",
        "        # collision, stay in place, negative reward\n",
        "        return (x,y), -5, False\n",
        "    if (nx,ny) == goal:\n",
        "        return (nx,ny), 100, True\n",
        "    return (nx,ny), -1, False"
      ],
      "metadata": {
        "id": "ABoD_0RFQL4N"
      },
      "execution_count": 39,
      "outputs": []
    },
    {
      "cell_type": "code",
      "source": [
        "Q = defaultdict(lambda: np.zeros(n_actions))\n",
        "alpha = 0.5\n",
        "gamma = 0.99\n",
        "epsilon = 0.2\n",
        "n_episodes = 2000\n",
        "max_steps = 200"
      ],
      "metadata": {
        "id": "fp5z4ouJQP11"
      },
      "execution_count": 40,
      "outputs": []
    },
    {
      "cell_type": "code",
      "source": [
        "for ep in range(n_episodes):\n",
        "    state = start\n",
        "    for t in range(max_steps):\n",
        "        if random.random() < epsilon:\n",
        "            action = random.randrange(n_actions)\n",
        "        else:\n",
        "            action = np.argmax(Q[state])\n",
        "        next_state, reward, done = step(state, action)\n",
        "        # Q-learning update\n",
        "        Q[state][action] += alpha * (reward + gamma * np.max(Q[next_state]) - Q[state][action])\n",
        "        state = next_state\n",
        "        if done:\n",
        "            break\n",
        "    # optional: decay epsilon\n",
        "    epsilon = max(0.01, epsilon * 0.995)"
      ],
      "metadata": {
        "id": "5v9z9FQxQlPm"
      },
      "execution_count": 41,
      "outputs": []
    },
    {
      "cell_type": "code",
      "source": [
        "state = start\n",
        "path = [state]\n",
        "for _ in range(50):\n",
        "    a = np.argmax(Q[state])\n",
        "    state, r, done = step(state, a)\n",
        "    path.append(state)\n",
        "    if done:\n",
        "        print(\"Reached goal in\", len(path)-1, \"steps\")\n",
        "        break\n",
        "else:\n",
        "    print(\"Did not reach goal\")\n",
        "print(\"Path:\", path)"
      ],
      "metadata": {
        "colab": {
          "base_uri": "https://localhost:8080/"
        },
        "id": "VaRQL9xfQog1",
        "outputId": "7e6063c8-1633-43d1-f6b4-7b397db4769a"
      },
      "execution_count": 42,
      "outputs": [
        {
          "output_type": "stream",
          "name": "stdout",
          "text": [
            "Reached goal in 8 steps\n",
            "Path: [(0, 0), (0, 1), (0, 2), (0, 3), (0, 4), (1, 4), (2, 4), (3, 4), (4, 4)]\n"
          ]
        }
      ]
    },
    {
      "cell_type": "code",
      "source": [
        "def plot_maze(path):\n",
        "    maze_vis = maze.copy()\n",
        "    for (x, y) in path:\n",
        "        if (x, y) != start and (x, y) != goal:\n",
        "            maze_vis[x, y] = 2  # mark path\n",
        "\n",
        "    cmap = plt.cm.colors.ListedColormap(['white', 'black', 'green'])\n",
        "    bounds = [0,1,2,3]\n",
        "    norm = plt.cm.colors.BoundaryNorm(bounds, cmap.N)\n",
        "\n",
        "    plt.imshow(maze_vis, cmap=cmap, norm=norm)\n",
        "    plt.xticks(np.arange(maze.shape[1]))\n",
        "    plt.yticks(np.arange(maze.shape[0]))\n",
        "    plt.grid(True, which='both', color='gray', linewidth=0.5)\n",
        "    plt.gca().invert_yaxis()\n",
        "\n",
        "    # Mark start & goal\n",
        "    plt.text(start[1], start[0], 'S', ha='center', va='center', color='red', fontsize=12, fontweight='bold')\n",
        "    plt.text(goal[1], goal[0], 'G', ha='center', va='center', color='yellow', fontsize=12, fontweight='bold')\n",
        "\n",
        "    plt.show()"
      ],
      "metadata": {
        "id": "8F1GEYU0QtDw"
      },
      "execution_count": 43,
      "outputs": []
    },
    {
      "cell_type": "code",
      "source": [
        "plot_maze(path)"
      ],
      "metadata": {
        "colab": {
          "base_uri": "https://localhost:8080/",
          "height": 430
        },
        "id": "sHZBdNhCRG_t",
        "outputId": "4cd8d74d-7fbd-4af5-9f55-e2aeb6f71b8c"
      },
      "execution_count": 44,
      "outputs": [
        {
          "output_type": "display_data",
          "data": {
            "text/plain": [
              "<Figure size 640x480 with 1 Axes>"
            ],
            "image/png": "[encoded data removed]"
          },
          "metadata": {}
        }
      ]
    }
  ]
}