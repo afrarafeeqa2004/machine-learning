{
  "nbformat": 4,
  "nbformat_minor": 0,
  "metadata": {
    "colab": {
      "provenance": [],
      "mount_file_id": "1V_faJ0i0l7rs9IEnItmxXRVORN6GlAyS",
      "authorship_tag": "ABX9TyOWjnI/tdb1s4sAdbkjre+a",
      "include_colab_link": true
    },
    "kernelspec": {
      "name": "python3",
      "display_name": "Python 3"
    },
    "language_info": {
      "name": "python"
    }
  },
  "cells": [
    {
      "cell_type": "markdown",
      "metadata": {
        "id": "view-in-github",
        "colab_type": "text"
      },
      "source": [
        "<a href=\"https://colab.research.google.com/github/afrarafeeqa2004/machine-learning/blob/main/customersegmentationkmeansclustering.ipynb\" target=\"_parent\"><img src=\"https://colab.research.google.com/assets/colab-badge.svg\" alt=\"Open In Colab\"/></a>"
      ]
    },
    {
      "cell_type": "code",
      "execution_count": null,
      "metadata": {
        "id": "Ds_bM0kQa_3r"
      },
      "outputs": [],
      "source": [
        "import pandas as pd\n",
        "import numpy as np\n",
        "import matplotlib.pyplot as plt\n",
        "from sklearn.preprocessing import StandardScaler\n",
        "from sklearn.cluster import KMeans\n",
        "from sklearn.metrics import silhouette_score\n",
        "from datetime import timedelta"
      ]
    },
    {
      "cell_type": "code",
      "source": [
        "df = pd.read_csv(\"/content/drive/MyDrive/Colab Notebooks/Online Retail.csv\")"
      ],
      "metadata": {
        "id": "7IP3fT6tcMt5"
      },
      "execution_count": null,
      "outputs": []
    },
    {
      "cell_type": "code",
      "source": [
        "df.columns = df.columns.str.strip().str.replace(\"ï»¿\", \"\")"
      ],
      "metadata": {
        "id": "kG0zf--yfgfc"
      },
      "execution_count": null,
      "outputs": []
    },
    {
      "cell_type": "code",
      "source": [
        "df = df.dropna(subset=[\"CustomerID\"])"
      ],
      "metadata": {
        "id": "E2fG_6A3fsC0"
      },
      "execution_count": null,
      "outputs": []
    },
    {
      "cell_type": "code",
      "source": [
        "df[\"InvoiceDate\"] = pd.to_datetime(df[\"InvoiceDate\"], format=\"%d-%m-%Y %H:%M\", errors=\"coerce\")"
      ],
      "metadata": {
        "id": "fEFQlUVqfwiz"
      },
      "execution_count": null,
      "outputs": []
    },
    {
      "cell_type": "code",
      "source": [
        "df[\"TotalPrice\"] = df[\"Quantity\"] * df[\"UnitPrice\"]"
      ],
      "metadata": {
        "id": "5WFWG2gjfzkY"
      },
      "execution_count": null,
      "outputs": []
    },
    {
      "cell_type": "code",
      "source": [
        "reference_date = df[\"InvoiceDate\"].max() + timedelta(days=1)"
      ],
      "metadata": {
        "id": "EhfIvwqgf2HR"
      },
      "execution_count": null,
      "outputs": []
    },
    {
      "cell_type": "code",
      "source": [
        "rfm = df.groupby(\"CustomerID\").agg({\n",
        "    \"InvoiceDate\": lambda x: (reference_date - x.max()).days,  # Recency\n",
        "    \"InvoiceNo\": \"nunique\",                                    # Frequency\n",
        "    \"TotalPrice\": \"sum\"                                        # Monetary\n",
        "}).reset_index()"
      ],
      "metadata": {
        "id": "pjWZyabzf5Um"
      },
      "execution_count": null,
      "outputs": []
    },
    {
      "cell_type": "code",
      "source": [
        "rfm.columns = [\"CustomerID\", \"Recency\", \"Frequency\", \"Monetary\"]"
      ],
      "metadata": {
        "id": "RRNI5utWgDBw"
      },
      "execution_count": null,
      "outputs": []
    },
    {
      "cell_type": "code",
      "source": [
        "scaler = StandardScaler()\n",
        "rfm_scaled = scaler.fit_transform(rfm[[\"Recency\", \"Frequency\", \"Monetary\"]])"
      ],
      "metadata": {
        "id": "lDbRPpx6gF5F"
      },
      "execution_count": null,
      "outputs": []
    },
    {
      "cell_type": "code",
      "source": [
        "inertia = []\n",
        "K = range(1, 11)\n",
        "for k in K:\n",
        "    kmeans = KMeans(n_clusters=k, random_state=42, n_init=10)\n",
        "    kmeans.fit(rfm_scaled)\n",
        "    inertia.append(kmeans.inertia_)"
      ],
      "metadata": {
        "id": "njMTw2T5gJP8"
      },
      "execution_count": null,
      "outputs": []
    },
    {
      "cell_type": "code",
      "source": [
        "plt.figure(figsize=(6, 4))\n",
        "plt.plot(K, inertia, \"bx-\")\n",
        "plt.xlabel(\"Number of clusters (k)\")\n",
        "plt.ylabel(\"Inertia\")\n",
        "plt.title(\"Elbow Method For Optimal k\")\n",
        "plt.show()"
      ],
      "metadata": {
        "colab": {
          "base_uri": "https://localhost:8080/",
          "height": 410
        },
        "id": "s6N2-lDsgM4v",
        "outputId": "497facf0-4ddc-4cf4-c1ac-417d4a2530e8"
      },
      "execution_count": null,
      "outputs": [
        {
          "output_type": "display_data",
          "data": {
            "text/plain": [
              "<Figure size 600x400 with 1 Axes>"
            ],
            "image/png": "[encoded data removed]"
          },
          "metadata": {}
        }
      ]
    },
    {
      "cell_type": "code",
      "source": [
        "kmeans = KMeans(n_clusters=4, random_state=42, n_init=10)\n",
        "rfm[\"Cluster\"] = kmeans.fit_predict(rfm_scaled)"
      ],
      "metadata": {
        "id": "mOoNnkBfgQHy"
      },
      "execution_count": null,
      "outputs": []
    },
    {
      "cell_type": "code",
      "source": [
        "cluster_summary = rfm.groupby(\"Cluster\").agg({\n",
        "    \"Recency\": \"mean\",\n",
        "    \"Frequency\": \"mean\",\n",
        "    \"Monetary\": \"mean\",\n",
        "    \"CustomerID\": \"count\"\n",
        "}).rename(columns={\"CustomerID\": \"NumCustomers\"})\n",
        "print(cluster_summary)"
      ],
      "metadata": {
        "colab": {
          "base_uri": "https://localhost:8080/"
        },
        "id": "XHMP1L1XgSvC",
        "outputId": "50d034b4-88d2-411b-e7e7-a77037c1e489"
      },
      "execution_count": null,
      "outputs": [
        {
          "output_type": "stream",
          "name": "stdout",
          "text": [
            "            Recency  Frequency       Monetary  NumCustomers\n",
            "Cluster                                                    \n",
            "0         41.606500   4.802461    1478.515539          3169\n",
            "1        247.951242   1.805888     453.488888          1087\n",
            "2          7.666667  89.000000  182181.981667             6\n",
            "3          9.181818  40.672727   18441.961455           110\n"
          ]
        }
      ]
    }
  ]
}