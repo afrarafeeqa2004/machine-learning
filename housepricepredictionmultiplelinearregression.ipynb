{
  "nbformat": 4,
  "nbformat_minor": 0,
  "metadata": {
    "colab": {
      "provenance": [],
      "authorship_tag": "ABX9TyOBNoJcu0z2VNzLKw2hOGFA",
      "include_colab_link": true
    },
    "kernelspec": {
      "name": "python3",
      "display_name": "Python 3"
    },
    "language_info": {
      "name": "python"
    }
  },
  "cells": [
    {
      "cell_type": "markdown",
      "metadata": {
        "id": "view-in-github",
        "colab_type": "text"
      },
      "source": [
        "<a href=\"https://colab.research.google.com/github/afrarafeeqa2004/machine-learning/blob/main/housepricepredictionmultiplelinearregression.ipynb\" target=\"_parent\"><img src=\"https://colab.research.google.com/assets/colab-badge.svg\" alt=\"Open In Colab\"/></a>"
      ]
    },
    {
      "cell_type": "code",
      "execution_count": null,
      "metadata": {
        "id": "WJb8qRo81ZgE"
      },
      "outputs": [],
      "source": [
        "import matplotlib.pyplot as plt\n",
        "from sklearn.datasets import fetch_california_housing\n",
        "from sklearn.linear_model import LinearRegression\n",
        "from sklearn.model_selection import train_test_split\n",
        "from sklearn.metrics import mean_absolute_error, mean_squared_error, r2_score\n",
        "import numpy as np"
      ]
    },
    {
      "cell_type": "code",
      "source": [
        "california = fetch_california_housing()\n",
        "X, y = california.data, california.target"
      ],
      "metadata": {
        "id": "2uZZvwgq1bd5"
      },
      "execution_count": null,
      "outputs": []
    },
    {
      "cell_type": "code",
      "source": [
        "X_simple = X[:, [0]]"
      ],
      "metadata": {
        "id": "q8WewmVB1s50"
      },
      "execution_count": null,
      "outputs": []
    },
    {
      "cell_type": "code",
      "source": [
        "X_train, X_test, y_train, y_test = train_test_split(\n",
        "    X, y, test_size=0.2, random_state=42\n",
        ")"
      ],
      "metadata": {
        "id": "CY12KC1-1zUp"
      },
      "execution_count": null,
      "outputs": []
    },
    {
      "cell_type": "code",
      "source": [
        "mlr = LinearRegression()\n",
        "mlr.fit(X_train, y_train)\n",
        "y_pred_mlr = mlr.predict(X_test)"
      ],
      "metadata": {
        "id": "JAB0Jq6q11qJ"
      },
      "execution_count": null,
      "outputs": []
    },
    {
      "cell_type": "code",
      "source": [
        "mae_mlr = mean_absolute_error(y_test, y_pred_mlr)\n",
        "rmse_mlr = np.sqrt(mean_squared_error(y_test, y_pred_mlr))\n",
        "r2_mlr = r2_score(y_test, y_pred_mlr)"
      ],
      "metadata": {
        "id": "nToIf0fb131o"
      },
      "execution_count": null,
      "outputs": []
    },
    {
      "cell_type": "code",
      "source": [
        "print(\"\\n---- Multiple Linear Regression ----\")\n",
        "print(\"MAE:\", mae_mlr)\n",
        "print(\"RMSE:\", rmse_mlr)\n",
        "print(\"R²:\", r2_mlr)"
      ],
      "metadata": {
        "colab": {
          "base_uri": "https://localhost:8080/"
        },
        "id": "JH9IAcjq155N",
        "outputId": "d382cb44-2ba3-4461-e290-13d5ae3b6b5e"
      },
      "execution_count": null,
      "outputs": [
        {
          "output_type": "stream",
          "name": "stdout",
          "text": [
            "\n",
            "---- Multiple Linear Regression ----\n",
            "MAE: 0.533200130495698\n",
            "RMSE: 0.7455813830127749\n",
            "R²: 0.5757877060324524\n"
          ]
        }
      ]
    }
  ]
}